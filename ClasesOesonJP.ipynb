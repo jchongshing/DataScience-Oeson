{
 "cells": [
  {
   "cell_type": "code",
   "execution_count": 13,
   "id": "9a9c433a-e8d3-4ab1-b862-8f05db8ae75d",
   "metadata": {},
   "outputs": [
    {
     "name": "stdin",
     "output_type": "stream",
     "text": [
      "Enter the first number:  55\n",
      "Enter the second number:  55\n"
     ]
    },
    {
     "name": "stdout",
     "output_type": "stream",
     "text": [
      "55 and 55 both are equal!\n"
     ]
    }
   ],
   "source": [
    "# WAP to take two numbers from the user and print the largest of them\n",
    "\n",
    "num1 = int(input(\"Enter the first number: \"))\n",
    "num2 = int(input(\"Enter the second number: \"))\n",
    "\n",
    "if num1 > num2:\n",
    "        print(f\"{num1} is greter than {num2}\")\n",
    "elif num2 > num1:\n",
    "        print(f\"{num2} is greater than {num1}\")\n",
    "else:\n",
    "    print(f\"{num1} and {num2} both are equal!\")\n",
    "    \n",
    "\n",
    "\n",
    "\n"
   ]
  },
  {
   "cell_type": "code",
   "execution_count": 21,
   "id": "56e55962-568f-4b16-ad4e-87890b8f5f34",
   "metadata": {},
   "outputs": [
    {
     "name": "stdin",
     "output_type": "stream",
     "text": [
      "enter the marks:   55\n"
     ]
    },
    {
     "name": "stdout",
     "output_type": "stream",
     "text": [
      "grade: F\n"
     ]
    }
   ],
   "source": [
    "# WAP to assing grades according to the student's final mark, >=90:A, >=70:C, >=60:D, else F\n",
    "\n",
    "notas = int(input(\"enter the marks:  \"))\n",
    "if notas >= 90:\n",
    "    print(\"grade: A\")\n",
    "elif notas >= 70:\n",
    "    print(\"grade: B\")\n",
    "elif notas >= 60:\n",
    "    print(\"grade: C\")\n",
    "else:\n",
    "    print(\"grade: F\")\n"
   ]
  },
  {
   "cell_type": "code",
   "execution_count": 37,
   "id": "13a41248-7e1e-44c1-8efc-076e6add3498",
   "metadata": {},
   "outputs": [
    {
     "name": "stdin",
     "output_type": "stream",
     "text": [
      "enter the Year:    2021\n"
     ]
    },
    {
     "name": "stdout",
     "output_type": "stream",
     "text": [
      "2021 is not a Leap Year!   -  21\n",
      "2021 / 400 is : 21\n"
     ]
    }
   ],
   "source": [
    "#WAP to check of the fiven year is the leap year:\n",
    "\n",
    "year = int(input(\"enter the Year:   \"))\n",
    "\n",
    "if (year % 4 == 0 and year % 100 != 0) or (year % 400 == 0):\n",
    "    print(f\"{year} is the Leap Year!\")\n",
    "else: \n",
    "    print(f\"{year} is not a Leap Year!   -  {year%400}\")\n",
    "    print(f\"{year} / 400 is : {year%400}\")\n",
    "    "
   ]
  },
  {
   "cell_type": "code",
   "execution_count": 36,
   "id": "e340db25-f645-4929-8835-7a95d21ed653",
   "metadata": {},
   "outputs": [
    {
     "name": "stdin",
     "output_type": "stream",
     "text": [
      "Enter the number to check:     151515151\n"
     ]
    },
    {
     "name": "stdout",
     "output_type": "stream",
     "text": [
      "The number 151515151 is a Palindrome number\n"
     ]
    }
   ],
   "source": [
    "#WAP to print the palindrome of a given number \n",
    "\n",
    "num = int(input(\"Enter the number to check:    \"))\n",
    "\n",
    "#convertir el número en cadena \n",
    "num_str = str(num)\n",
    "length = len(num_str)\n",
    "is_palindrome = True #supongo que es verdadero desde el inicio.\n",
    "\n",
    "left = 0\n",
    "right = length - 1\n",
    "\n",
    "while left < right:\n",
    "    if num_str[left] != num_str[right]:\n",
    "        is_palindrome = False\n",
    "        break  # Si encontramos una diferencia, terminamos el bucle\n",
    "    left += 1\n",
    "    right -= 1\n",
    "#mostrar el resultado\n",
    "if is_palindrome:\n",
    "    print(f\"The number {num} is a Palindrome number\")\n",
    "else:\n",
    "    print(f\"The number {num} is NOT a Palindrome number\")\n",
    "    display(HTML('<span style=\"color:red\">El número  no es un palíndromo.</span>'))\n",
    "\n",
    "              "
   ]
  },
  {
   "cell_type": "code",
   "execution_count": 50,
   "id": "6b66caa9-60e1-452a-b148-7ee0d1abb8b0",
   "metadata": {},
   "outputs": [
    {
     "name": "stdin",
     "output_type": "stream",
     "text": [
      "Enter your Full name:   sdfasdf\n",
      "How old are you:      45\n"
     ]
    },
    {
     "name": "stdout",
     "output_type": "stream",
     "text": [
      "Dear sdfasdf you are able to Vote!!!\n"
     ]
    },
    {
     "data": {
      "text/html": [
       "<span style=\"color:green\">You are NOT able to Vote!!!</span>"
      ],
      "text/plain": [
       "<IPython.core.display.HTML object>"
      ]
     },
     "metadata": {},
     "output_type": "display_data"
    }
   ],
   "source": [
    "#WAP to check if the person is eligible to vote or not\n",
    "\n",
    "name = str(input(\"Enter your Full name:  \"))\n",
    "age = int(input(\"How old are you:     \"))\n",
    "\n",
    "if age < 18:\n",
    "    print(f\"You are NOT able to Vote\")\n",
    "    display(HTML('<span style=\"color:red\">You are NOT able to Vote.</span>'))\n",
    "\n",
    "else:\n",
    "    print(f\"Dear {name} you are able to Vote!!!\")\n",
    "    display(HTML('<span style=\"color:green\">You ARE able to Vote!!!</span>'))\n",
    "\n",
    "    "
   ]
  },
  {
   "cell_type": "code",
   "execution_count": 55,
   "id": "8c34f1ec-f323-462c-83eb-60576dab59e6",
   "metadata": {},
   "outputs": [
    {
     "data": {
      "image/png": "[encoded data removed]",
      "text/plain": [
       "<Figure size 640x480 with 1 Axes>"
      ]
     },
     "metadata": {},
     "output_type": "display_data"
    }
   ],
   "source": [
    "import pandas as pd\n",
    "import matplotlib.pyplot as plt\n",
    "\n",
    "# Crear un DataFrame\n",
    "data = {'Años': [2010, 2015, 2020, 2025],\n",
    "        'Ventas': [100, 250, 500, 800]}\n",
    "\n",
    "df = pd.DataFrame(data)\n",
    "\n",
    "# Visualizar datos\n",
    "plt.plot(df['Años'], df['Ventas'])\n",
    "plt.plot(df['Años'], df['Ventas'], 'bo')\n",
    "plt.xlabel('Años')\n",
    "plt.ylabel('Ventas')\n",
    "plt.title('Crecimiento de Ventas')\n",
    "plt.show()\n"
   ]
  },
  {
   "cell_type": "code",
   "execution_count": null,
   "id": "79148f92-8972-4ca8-a8ed-f5871d3162cc",
   "metadata": {},
   "outputs": [],
   "source": []
  }
 ],
 "metadata": {
  "kernelspec": {
   "display_name": "Python [conda env:base] *",
   "language": "python",
   "name": "conda-base-py"
  },
  "language_info": {
   "codemirror_mode": {
    "name": "ipython",
    "version": 3
   },
   "file_extension": ".py",
   "mimetype": "text/x-python",
   "name": "python",
   "nbconvert_exporter": "python",
   "pygments_lexer": "ipython3",
   "version": "3.12.7"
  }
 },
 "nbformat": 4,
 "nbformat_minor": 5
}
